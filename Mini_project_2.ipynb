{
  "nbformat": 4,
  "nbformat_minor": 0,
  "metadata": {
    "colab": {
      "provenance": [],
      "authorship_tag": "ABX9TyMYVrSf0ifdGlnanp1gVgbl",
      "include_colab_link": true
    },
    "kernelspec": {
      "name": "python3",
      "display_name": "Python 3"
    },
    "language_info": {
      "name": "python"
    }
  },
  "cells": [
    {
      "cell_type": "markdown",
      "metadata": {
        "id": "view-in-github",
        "colab_type": "text"
      },
      "source": [
        "<a href=\"https://colab.research.google.com/github/coraline1111/Lab-work-Saturday/blob/Branch-1.0/Mini_project_2.ipynb\" target=\"_parent\"><img src=\"https://colab.research.google.com/assets/colab-badge.svg\" alt=\"Open In Colab\"/></a>"
      ]
    },
    {
      "cell_type": "markdown",
      "source": [],
      "metadata": {
        "id": "hXwtXvB3WCob"
      }
    },
    {
      "cell_type": "markdown",
      "source": [
        "# Background of my dataset\n",
        "This is a dataset that contains selling prices of cars. There are many different variables in this dataset, for example the year that cars were made, how many kilometers drove by the previous owners of the cars, transmission types, and fuel types of the cars.\n",
        "\n"
      ],
      "metadata": {
        "id": "Sj6eQWe961OD"
      }
    },
    {
      "cell_type": "markdown",
      "source": [
        "# What are we hoping to find..\n",
        "We are hoping to find whether there are any relationships between the selling price and other variables, for example, kilometer driven by the previous owner, how many previous owners the cars had before, transmission types etc.. \n",
        "\n",
        "If there are such relationship, then we will be able to locate some undervalue priced cars."
      ],
      "metadata": {
        "id": "L7JGymFs7VPS"
      }
    },
    {
      "cell_type": "markdown",
      "source": [
        "# Some basic package"
      ],
      "metadata": {
        "id": "w_4_VAcVdCSx"
      }
    },
    {
      "cell_type": "code",
      "execution_count": null,
      "metadata": {
        "id": "Gq06baPEU0Em"
      },
      "outputs": [],
      "source": [
        "import numpy as np\n",
        "import pandas as pd\n",
        "import matplotlib.pyplot as plt\n",
        "import seaborn as sns\n",
        "import os\n"
      ]
    },
    {
      "cell_type": "markdown",
      "source": [
        "# loading the dataset"
      ],
      "metadata": {
        "id": "ndAlCi9uWE3q"
      }
    },
    {
      "cell_type": "code",
      "source": [
        "cars = pd.read_excel(\"/content/cars.xlsx\")"
      ],
      "metadata": {
        "id": "ENiZLzTSWGvD"
      },
      "execution_count": null,
      "outputs": []
    },
    {
      "cell_type": "markdown",
      "source": [
        "# Check how large the dataset is"
      ],
      "metadata": {
        "id": "R2EOpRiPXrqv"
      }
    },
    {
      "cell_type": "code",
      "source": [
        "cars.shape"
      ],
      "metadata": {
        "colab": {
          "base_uri": "https://localhost:8080/"
        },
        "id": "L6WAmSWXXrRL",
        "outputId": "e236458e-d32b-4471-feb9-736d29db62d1"
      },
      "execution_count": null,
      "outputs": [
        {
          "output_type": "execute_result",
          "data": {
            "text/plain": [
              "(1997, 18)"
            ]
          },
          "metadata": {},
          "execution_count": 3
        }
      ]
    },
    {
      "cell_type": "markdown",
      "source": [
        "# Getting rid of duplicates\n",
        "\n",
        "I choose not to do drop duplicates because this is a dataset about cars' selling price and make and location and power all that, it is reasonable to have the same data for example for selling price and model of the cars. And I didn't think having a few duplicates will effect the result of my data analysis. Therefore I choose not to do it. \n",
        "\n",
        "But if it was for other types of dataset for example banking records, having two records of the same customer, that would effect the outcome."
      ],
      "metadata": {
        "id": "6obgmNQEaCL4"
      }
    },
    {
      "cell_type": "markdown",
      "source": [
        "# Different variables and what types"
      ],
      "metadata": {
        "id": "vl3etPscX-AA"
      }
    },
    {
      "cell_type": "code",
      "source": [
        "cars.info()\n",
        "# we have 18 columns in total\n",
        "# we have 1997 total records"
      ],
      "metadata": {
        "colab": {
          "base_uri": "https://localhost:8080/"
        },
        "id": "5hwAuM5tYBGa",
        "outputId": "00c546be-6bf4-44f2-e910-62981018f6ee"
      },
      "execution_count": null,
      "outputs": [
        {
          "output_type": "stream",
          "name": "stdout",
          "text": [
            "<class 'pandas.core.frame.DataFrame'>\n",
            "RangeIndex: 1997 entries, 0 to 1996\n",
            "Data columns (total 18 columns):\n",
            " #   Column         Non-Null Count  Dtype  \n",
            "---  ------         --------------  -----  \n",
            " 0   make           1997 non-null   object \n",
            " 1   selling_price  1997 non-null   float64\n",
            " 2   year           1997 non-null   int64  \n",
            " 3   kilometers     1997 non-null   int64  \n",
            " 4   fuel_type      1997 non-null   object \n",
            " 5   transmission   1997 non-null   object \n",
            " 6   location       1997 non-null   object \n",
            " 7   colour         1997 non-null   object \n",
            " 8   owner          1997 non-null   object \n",
            " 9   engine_size    1920 non-null   object \n",
            " 10  max_power      1920 non-null   object \n",
            " 11  max_torque     1920 non-null   object \n",
            " 12  drivetrain     1864 non-null   object \n",
            " 13  length         1936 non-null   float64\n",
            " 14  width          1936 non-null   float64\n",
            " 15  height         1936 non-null   float64\n",
            " 16  seats          1936 non-null   float64\n",
            " 17  fuel_tank      1888 non-null   float64\n",
            "dtypes: float64(6), int64(2), object(10)\n",
            "memory usage: 281.0+ KB\n"
          ]
        }
      ]
    },
    {
      "cell_type": "markdown",
      "source": [
        "# Let's check some actual records in the dataset"
      ],
      "metadata": {
        "id": "C-sEzu87YrTC"
      }
    },
    {
      "cell_type": "code",
      "source": [
        "cars.head(10)"
      ],
      "metadata": {
        "colab": {
          "base_uri": "https://localhost:8080/",
          "height": 618
        },
        "id": "0p0Oq-maY4Lp",
        "outputId": "eedfb251-5dc4-4184-80f7-730fab3a52c8"
      },
      "execution_count": null,
      "outputs": [
        {
          "output_type": "execute_result",
          "data": {
            "text/plain": [
              "            make  selling_price  year  kilometers fuel_type transmission  \\\n",
              "0  Maruti Suzuki       8100.000  2014       75000    Diesel       Manual   \n",
              "1        Hyundai       3960.000  2011       67000    Petrol       Manual   \n",
              "2         Toyota      14382.000  2019       37500    Petrol       Manual   \n",
              "3         Toyota      35100.000  2018       69000    Diesel       Manual   \n",
              "4  Maruti Suzuki      12150.000  2017       73315    Petrol       Manual   \n",
              "5  Mercedes-Benz      34181.982  2015       47000    Petrol    Automatic   \n",
              "6            BMW      47700.000  2017       75000    Diesel    Automatic   \n",
              "7          Skoda      25020.000  2017       56000    Petrol    Automatic   \n",
              "8         Nissan      10350.000  2015       85000    Diesel       Manual   \n",
              "9        Hyundai      10638.000  2017       20281    Petrol       Manual   \n",
              "\n",
              "     location  colour   owner engine_size           max_power  \\\n",
              "0    Ludhiana   White  Second     1248 cc   74 bhp @ 4000 rpm   \n",
              "1     Lucknow  Maroon   First     1197 cc   79 bhp @ 6000 rpm   \n",
              "2   Mangalore     Red   First     1197 cc   82 bhp @ 6000 rpm   \n",
              "3      Mumbai    Grey   First     2393 cc  148 bhp @ 3400 rpm   \n",
              "4        Pune    Grey   First     1373 cc   91 bhp @ 6000 rpm   \n",
              "5      Mumbai   White  Second     1991 cc  181 bhp @ 5500 rpm   \n",
              "6  Coimbatore   White  Second     1995 cc  188 bhp @ 4000 rpm   \n",
              "7      Mumbai   White   First     1798 cc  177 bhp @ 5100 rpm   \n",
              "8      Mumbai   White   First     1461 cc   84 bhp @ 3750 rpm   \n",
              "9      Mumbai     Red   First     1197 cc   82 bhp @ 6000 rpm   \n",
              "\n",
              "               max_torque drivetrain  length   width  height  seats  fuel_tank  \n",
              "0       190 Nm @ 2000 rpm        FWD  3995.0  1695.0  1555.0    5.0       42.0  \n",
              "1  112.7619 Nm @ 4000 rpm        FWD  3585.0  1595.0  1550.0    5.0       35.0  \n",
              "2       113 Nm @ 4200 rpm        FWD  3995.0  1745.0  1510.0    5.0       37.0  \n",
              "3       343 Nm @ 1400 rpm        RWD  4735.0  1830.0  1795.0    7.0       55.0  \n",
              "4       130 Nm @ 4000 rpm        FWD  4490.0  1730.0  1485.0    5.0       43.0  \n",
              "5       300 Nm @ 1200 rpm        FWD  4630.0  1777.0  1432.0    5.0        NaN  \n",
              "6       400 Nm @ 1750 rpm        AWD  4439.0  1821.0  1612.0    5.0       51.0  \n",
              "7       250 Nm @ 1250 rpm        FWD  4670.0  1814.0  1476.0    5.0       50.0  \n",
              "8       200 Nm @ 1900 rpm        FWD  4331.0  1822.0  1671.0    5.0       50.0  \n",
              "9       115 Nm @ 4000 rpm        FWD  3985.0  1734.0  1505.0    5.0       45.0  "
            ],
            "text/html": [
              "\n",
              "  <div id=\"df-05e3a44a-7e98-41dc-8db5-acbc2f0d1cde\">\n",
              "    <div class=\"colab-df-container\">\n",
              "      <div>\n",
              "<style scoped>\n",
              "    .dataframe tbody tr th:only-of-type {\n",
              "        vertical-align: middle;\n",
              "    }\n",
              "\n",
              "    .dataframe tbody tr th {\n",
              "        vertical-align: top;\n",
              "    }\n",
              "\n",
              "    .dataframe thead th {\n",
              "        text-align: right;\n",
              "    }\n",
              "</style>\n",
              "<table border=\"1\" class=\"dataframe\">\n",
              "  <thead>\n",
              "    <tr style=\"text-align: right;\">\n",
              "      <th></th>\n",
              "      <th>make</th>\n",
              "      <th>selling_price</th>\n",
              "      <th>year</th>\n",
              "      <th>kilometers</th>\n",
              "      <th>fuel_type</th>\n",
              "      <th>transmission</th>\n",
              "      <th>location</th>\n",
              "      <th>colour</th>\n",
              "      <th>owner</th>\n",
              "      <th>engine_size</th>\n",
              "      <th>max_power</th>\n",
              "      <th>max_torque</th>\n",
              "      <th>drivetrain</th>\n",
              "      <th>length</th>\n",
              "      <th>width</th>\n",
              "      <th>height</th>\n",
              "      <th>seats</th>\n",
              "      <th>fuel_tank</th>\n",
              "    </tr>\n",
              "  </thead>\n",
              "  <tbody>\n",
              "    <tr>\n",
              "      <th>0</th>\n",
              "      <td>Maruti Suzuki</td>\n",
              "      <td>8100.000</td>\n",
              "      <td>2014</td>\n",
              "      <td>75000</td>\n",
              "      <td>Diesel</td>\n",
              "      <td>Manual</td>\n",
              "      <td>Ludhiana</td>\n",
              "      <td>White</td>\n",
              "      <td>Second</td>\n",
              "      <td>1248 cc</td>\n",
              "      <td>74 bhp @ 4000 rpm</td>\n",
              "      <td>190 Nm @ 2000 rpm</td>\n",
              "      <td>FWD</td>\n",
              "      <td>3995.0</td>\n",
              "      <td>1695.0</td>\n",
              "      <td>1555.0</td>\n",
              "      <td>5.0</td>\n",
              "      <td>42.0</td>\n",
              "    </tr>\n",
              "    <tr>\n",
              "      <th>1</th>\n",
              "      <td>Hyundai</td>\n",
              "      <td>3960.000</td>\n",
              "      <td>2011</td>\n",
              "      <td>67000</td>\n",
              "      <td>Petrol</td>\n",
              "      <td>Manual</td>\n",
              "      <td>Lucknow</td>\n",
              "      <td>Maroon</td>\n",
              "      <td>First</td>\n",
              "      <td>1197 cc</td>\n",
              "      <td>79 bhp @ 6000 rpm</td>\n",
              "      <td>112.7619 Nm @ 4000 rpm</td>\n",
              "      <td>FWD</td>\n",
              "      <td>3585.0</td>\n",
              "      <td>1595.0</td>\n",
              "      <td>1550.0</td>\n",
              "      <td>5.0</td>\n",
              "      <td>35.0</td>\n",
              "    </tr>\n",
              "    <tr>\n",
              "      <th>2</th>\n",
              "      <td>Toyota</td>\n",
              "      <td>14382.000</td>\n",
              "      <td>2019</td>\n",
              "      <td>37500</td>\n",
              "      <td>Petrol</td>\n",
              "      <td>Manual</td>\n",
              "      <td>Mangalore</td>\n",
              "      <td>Red</td>\n",
              "      <td>First</td>\n",
              "      <td>1197 cc</td>\n",
              "      <td>82 bhp @ 6000 rpm</td>\n",
              "      <td>113 Nm @ 4200 rpm</td>\n",
              "      <td>FWD</td>\n",
              "      <td>3995.0</td>\n",
              "      <td>1745.0</td>\n",
              "      <td>1510.0</td>\n",
              "      <td>5.0</td>\n",
              "      <td>37.0</td>\n",
              "    </tr>\n",
              "    <tr>\n",
              "      <th>3</th>\n",
              "      <td>Toyota</td>\n",
              "      <td>35100.000</td>\n",
              "      <td>2018</td>\n",
              "      <td>69000</td>\n",
              "      <td>Diesel</td>\n",
              "      <td>Manual</td>\n",
              "      <td>Mumbai</td>\n",
              "      <td>Grey</td>\n",
              "      <td>First</td>\n",
              "      <td>2393 cc</td>\n",
              "      <td>148 bhp @ 3400 rpm</td>\n",
              "      <td>343 Nm @ 1400 rpm</td>\n",
              "      <td>RWD</td>\n",
              "      <td>4735.0</td>\n",
              "      <td>1830.0</td>\n",
              "      <td>1795.0</td>\n",
              "      <td>7.0</td>\n",
              "      <td>55.0</td>\n",
              "    </tr>\n",
              "    <tr>\n",
              "      <th>4</th>\n",
              "      <td>Maruti Suzuki</td>\n",
              "      <td>12150.000</td>\n",
              "      <td>2017</td>\n",
              "      <td>73315</td>\n",
              "      <td>Petrol</td>\n",
              "      <td>Manual</td>\n",
              "      <td>Pune</td>\n",
              "      <td>Grey</td>\n",
              "      <td>First</td>\n",
              "      <td>1373 cc</td>\n",
              "      <td>91 bhp @ 6000 rpm</td>\n",
              "      <td>130 Nm @ 4000 rpm</td>\n",
              "      <td>FWD</td>\n",
              "      <td>4490.0</td>\n",
              "      <td>1730.0</td>\n",
              "      <td>1485.0</td>\n",
              "      <td>5.0</td>\n",
              "      <td>43.0</td>\n",
              "    </tr>\n",
              "    <tr>\n",
              "      <th>5</th>\n",
              "      <td>Mercedes-Benz</td>\n",
              "      <td>34181.982</td>\n",
              "      <td>2015</td>\n",
              "      <td>47000</td>\n",
              "      <td>Petrol</td>\n",
              "      <td>Automatic</td>\n",
              "      <td>Mumbai</td>\n",
              "      <td>White</td>\n",
              "      <td>Second</td>\n",
              "      <td>1991 cc</td>\n",
              "      <td>181 bhp @ 5500 rpm</td>\n",
              "      <td>300 Nm @ 1200 rpm</td>\n",
              "      <td>FWD</td>\n",
              "      <td>4630.0</td>\n",
              "      <td>1777.0</td>\n",
              "      <td>1432.0</td>\n",
              "      <td>5.0</td>\n",
              "      <td>NaN</td>\n",
              "    </tr>\n",
              "    <tr>\n",
              "      <th>6</th>\n",
              "      <td>BMW</td>\n",
              "      <td>47700.000</td>\n",
              "      <td>2017</td>\n",
              "      <td>75000</td>\n",
              "      <td>Diesel</td>\n",
              "      <td>Automatic</td>\n",
              "      <td>Coimbatore</td>\n",
              "      <td>White</td>\n",
              "      <td>Second</td>\n",
              "      <td>1995 cc</td>\n",
              "      <td>188 bhp @ 4000 rpm</td>\n",
              "      <td>400 Nm @ 1750 rpm</td>\n",
              "      <td>AWD</td>\n",
              "      <td>4439.0</td>\n",
              "      <td>1821.0</td>\n",
              "      <td>1612.0</td>\n",
              "      <td>5.0</td>\n",
              "      <td>51.0</td>\n",
              "    </tr>\n",
              "    <tr>\n",
              "      <th>7</th>\n",
              "      <td>Skoda</td>\n",
              "      <td>25020.000</td>\n",
              "      <td>2017</td>\n",
              "      <td>56000</td>\n",
              "      <td>Petrol</td>\n",
              "      <td>Automatic</td>\n",
              "      <td>Mumbai</td>\n",
              "      <td>White</td>\n",
              "      <td>First</td>\n",
              "      <td>1798 cc</td>\n",
              "      <td>177 bhp @ 5100 rpm</td>\n",
              "      <td>250 Nm @ 1250 rpm</td>\n",
              "      <td>FWD</td>\n",
              "      <td>4670.0</td>\n",
              "      <td>1814.0</td>\n",
              "      <td>1476.0</td>\n",
              "      <td>5.0</td>\n",
              "      <td>50.0</td>\n",
              "    </tr>\n",
              "    <tr>\n",
              "      <th>8</th>\n",
              "      <td>Nissan</td>\n",
              "      <td>10350.000</td>\n",
              "      <td>2015</td>\n",
              "      <td>85000</td>\n",
              "      <td>Diesel</td>\n",
              "      <td>Manual</td>\n",
              "      <td>Mumbai</td>\n",
              "      <td>White</td>\n",
              "      <td>First</td>\n",
              "      <td>1461 cc</td>\n",
              "      <td>84 bhp @ 3750 rpm</td>\n",
              "      <td>200 Nm @ 1900 rpm</td>\n",
              "      <td>FWD</td>\n",
              "      <td>4331.0</td>\n",
              "      <td>1822.0</td>\n",
              "      <td>1671.0</td>\n",
              "      <td>5.0</td>\n",
              "      <td>50.0</td>\n",
              "    </tr>\n",
              "    <tr>\n",
              "      <th>9</th>\n",
              "      <td>Hyundai</td>\n",
              "      <td>10638.000</td>\n",
              "      <td>2017</td>\n",
              "      <td>20281</td>\n",
              "      <td>Petrol</td>\n",
              "      <td>Manual</td>\n",
              "      <td>Mumbai</td>\n",
              "      <td>Red</td>\n",
              "      <td>First</td>\n",
              "      <td>1197 cc</td>\n",
              "      <td>82 bhp @ 6000 rpm</td>\n",
              "      <td>115 Nm @ 4000 rpm</td>\n",
              "      <td>FWD</td>\n",
              "      <td>3985.0</td>\n",
              "      <td>1734.0</td>\n",
              "      <td>1505.0</td>\n",
              "      <td>5.0</td>\n",
              "      <td>45.0</td>\n",
              "    </tr>\n",
              "  </tbody>\n",
              "</table>\n",
              "</div>\n",
              "      <button class=\"colab-df-convert\" onclick=\"convertToInteractive('df-05e3a44a-7e98-41dc-8db5-acbc2f0d1cde')\"\n",
              "              title=\"Convert this dataframe to an interactive table.\"\n",
              "              style=\"display:none;\">\n",
              "        \n",
              "  <svg xmlns=\"http://www.w3.org/2000/svg\" height=\"24px\"viewBox=\"0 0 24 24\"\n",
              "       width=\"24px\">\n",
              "    <path d=\"M0 0h24v24H0V0z\" fill=\"none\"/>\n",
              "    <path d=\"M18.56 5.44l.94 2.06.94-2.06 2.06-.94-2.06-.94-.94-2.06-.94 2.06-2.06.94zm-11 1L8.5 8.5l.94-2.06 2.06-.94-2.06-.94L8.5 2.5l-.94 2.06-2.06.94zm10 10l.94 2.06.94-2.06 2.06-.94-2.06-.94-.94-2.06-.94 2.06-2.06.94z\"/><path d=\"M17.41 7.96l-1.37-1.37c-.4-.4-.92-.59-1.43-.59-.52 0-1.04.2-1.43.59L10.3 9.45l-7.72 7.72c-.78.78-.78 2.05 0 2.83L4 21.41c.39.39.9.59 1.41.59.51 0 1.02-.2 1.41-.59l7.78-7.78 2.81-2.81c.8-.78.8-2.07 0-2.86zM5.41 20L4 18.59l7.72-7.72 1.47 1.35L5.41 20z\"/>\n",
              "  </svg>\n",
              "      </button>\n",
              "      \n",
              "  <style>\n",
              "    .colab-df-container {\n",
              "      display:flex;\n",
              "      flex-wrap:wrap;\n",
              "      gap: 12px;\n",
              "    }\n",
              "\n",
              "    .colab-df-convert {\n",
              "      background-color: #E8F0FE;\n",
              "      border: none;\n",
              "      border-radius: 50%;\n",
              "      cursor: pointer;\n",
              "      display: none;\n",
              "      fill: #1967D2;\n",
              "      height: 32px;\n",
              "      padding: 0 0 0 0;\n",
              "      width: 32px;\n",
              "    }\n",
              "\n",
              "    .colab-df-convert:hover {\n",
              "      background-color: #E2EBFA;\n",
              "      box-shadow: 0px 1px 2px rgba(60, 64, 67, 0.3), 0px 1px 3px 1px rgba(60, 64, 67, 0.15);\n",
              "      fill: #174EA6;\n",
              "    }\n",
              "\n",
              "    [theme=dark] .colab-df-convert {\n",
              "      background-color: #3B4455;\n",
              "      fill: #D2E3FC;\n",
              "    }\n",
              "\n",
              "    [theme=dark] .colab-df-convert:hover {\n",
              "      background-color: #434B5C;\n",
              "      box-shadow: 0px 1px 3px 1px rgba(0, 0, 0, 0.15);\n",
              "      filter: drop-shadow(0px 1px 2px rgba(0, 0, 0, 0.3));\n",
              "      fill: #FFFFFF;\n",
              "    }\n",
              "  </style>\n",
              "\n",
              "      <script>\n",
              "        const buttonEl =\n",
              "          document.querySelector('#df-05e3a44a-7e98-41dc-8db5-acbc2f0d1cde button.colab-df-convert');\n",
              "        buttonEl.style.display =\n",
              "          google.colab.kernel.accessAllowed ? 'block' : 'none';\n",
              "\n",
              "        async function convertToInteractive(key) {\n",
              "          const element = document.querySelector('#df-05e3a44a-7e98-41dc-8db5-acbc2f0d1cde');\n",
              "          const dataTable =\n",
              "            await google.colab.kernel.invokeFunction('convertToInteractive',\n",
              "                                                     [key], {});\n",
              "          if (!dataTable) return;\n",
              "\n",
              "          const docLinkHtml = 'Like what you see? Visit the ' +\n",
              "            '<a target=\"_blank\" href=https://colab.research.google.com/notebooks/data_table.ipynb>data table notebook</a>'\n",
              "            + ' to learn more about interactive tables.';\n",
              "          element.innerHTML = '';\n",
              "          dataTable['output_type'] = 'display_data';\n",
              "          await google.colab.output.renderOutput(dataTable, element);\n",
              "          const docLink = document.createElement('div');\n",
              "          docLink.innerHTML = docLinkHtml;\n",
              "          element.appendChild(docLink);\n",
              "        }\n",
              "      </script>\n",
              "    </div>\n",
              "  </div>\n",
              "  "
            ]
          },
          "metadata": {},
          "execution_count": 5
        }
      ]
    },
    {
      "cell_type": "markdown",
      "source": [
        "# Does my dataset have any missing values?"
      ],
      "metadata": {
        "id": "F4I3HBeZc5JK"
      }
    },
    {
      "cell_type": "code",
      "source": [
        "missing_values = cars.isna().sum()\n",
        "print(missing_values)\n",
        "# it looks like we have some missing data in the engine_size and max power and also the size of the cars"
      ],
      "metadata": {
        "colab": {
          "base_uri": "https://localhost:8080/"
        },
        "id": "7zi7y9JLc8xm",
        "outputId": "e5367679-15db-4dea-93eb-f16f3c49981a"
      },
      "execution_count": null,
      "outputs": [
        {
          "output_type": "stream",
          "name": "stdout",
          "text": [
            "make               0\n",
            "selling_price      0\n",
            "year               0\n",
            "kilometers         0\n",
            "fuel_type          0\n",
            "transmission       0\n",
            "location           0\n",
            "colour             0\n",
            "owner              0\n",
            "engine_size       77\n",
            "max_power         77\n",
            "max_torque        77\n",
            "drivetrain       133\n",
            "length            61\n",
            "width             61\n",
            "height            61\n",
            "seats             61\n",
            "fuel_tank        109\n",
            "dtype: int64\n"
          ]
        }
      ]
    },
    {
      "cell_type": "markdown",
      "source": [
        "# Dealing with missing data"
      ],
      "metadata": {
        "id": "_2uZDjB5gW3a"
      }
    },
    {
      "cell_type": "code",
      "source": [
        "cars.fillna(cars.mean(), inplace=True)\n",
        "print(cars.isnull().sum())"
      ],
      "metadata": {
        "colab": {
          "base_uri": "https://localhost:8080/"
        },
        "id": "XuGOf3U0gZFu",
        "outputId": "7f67d971-c57e-4b1e-dc12-338906c341f1"
      },
      "execution_count": null,
      "outputs": [
        {
          "output_type": "stream",
          "name": "stdout",
          "text": [
            "make               0\n",
            "selling_price      0\n",
            "year               0\n",
            "kilometers         0\n",
            "fuel_type          0\n",
            "transmission       0\n",
            "location           0\n",
            "colour             0\n",
            "owner              0\n",
            "engine_size       77\n",
            "max_power         77\n",
            "max_torque        77\n",
            "drivetrain       133\n",
            "length             0\n",
            "width              0\n",
            "height             0\n",
            "seats              0\n",
            "fuel_tank          0\n",
            "dtype: int64\n"
          ]
        },
        {
          "output_type": "stream",
          "name": "stderr",
          "text": [
            "<ipython-input-7-87e60aa9e917>:1: FutureWarning: The default value of numeric_only in DataFrame.mean is deprecated. In a future version, it will default to False. In addition, specifying 'numeric_only=None' is deprecated. Select only valid columns or specify the value of numeric_only to silence this warning.\n",
            "  cars.fillna(cars.mean(), inplace=True)\n"
          ]
        }
      ]
    },
    {
      "cell_type": "markdown",
      "source": [
        "# So replacing with mean didn't work on some of the columns, let's try median"
      ],
      "metadata": {
        "id": "I26KpRhNlmNK"
      }
    },
    {
      "cell_type": "code",
      "source": [
        "cars.fillna(cars.median(), inplace=True)\n",
        "print(cars.isnull().sum())"
      ],
      "metadata": {
        "colab": {
          "base_uri": "https://localhost:8080/"
        },
        "id": "jiC8FOySgz8H",
        "outputId": "58e2afa4-7f4a-4f78-f767-c3681bebe9aa"
      },
      "execution_count": null,
      "outputs": [
        {
          "output_type": "stream",
          "name": "stdout",
          "text": [
            "make               0\n",
            "selling_price      0\n",
            "year               0\n",
            "kilometers         0\n",
            "fuel_type          0\n",
            "transmission       0\n",
            "location           0\n",
            "colour             0\n",
            "owner              0\n",
            "engine_size       77\n",
            "max_power         77\n",
            "max_torque        77\n",
            "drivetrain       133\n",
            "length             0\n",
            "width              0\n",
            "height             0\n",
            "seats              0\n",
            "fuel_tank          0\n",
            "dtype: int64\n"
          ]
        },
        {
          "output_type": "stream",
          "name": "stderr",
          "text": [
            "<ipython-input-8-5fe18e16a84d>:1: FutureWarning: The default value of numeric_only in DataFrame.median is deprecated. In a future version, it will default to False. In addition, specifying 'numeric_only=None' is deprecated. Select only valid columns or specify the value of numeric_only to silence this warning.\n",
            "  cars.fillna(cars.median(), inplace=True)\n"
          ]
        }
      ]
    },
    {
      "cell_type": "markdown",
      "source": [
        "# We still have missing data, this might mean the type of the column is not numerical"
      ],
      "metadata": {
        "id": "KIr0LdGOhizv"
      }
    },
    {
      "cell_type": "code",
      "source": [
        "print(cars[['engine_size', 'max_power', 'max_torque', 'drivetrain']].dtypes)"
      ],
      "metadata": {
        "colab": {
          "base_uri": "https://localhost:8080/"
        },
        "id": "Lw6lZvUvhijG",
        "outputId": "49437775-f001-4a12-8a1b-53e5697e7b4f"
      },
      "execution_count": null,
      "outputs": [
        {
          "output_type": "stream",
          "name": "stdout",
          "text": [
            "engine_size    object\n",
            "max_power      object\n",
            "max_torque     object\n",
            "drivetrain     object\n",
            "dtype: object\n"
          ]
        }
      ]
    },
    {
      "cell_type": "markdown",
      "source": [
        "# Print out the first 5 rows and have a look"
      ],
      "metadata": {
        "id": "dXNtf7OPifnG"
      }
    },
    {
      "cell_type": "code",
      "source": [
        "cars.head(5)"
      ],
      "metadata": {
        "colab": {
          "base_uri": "https://localhost:8080/",
          "height": 374
        },
        "id": "8y7j9zkLmQ9m",
        "outputId": "f309ef08-ab1b-49a6-9706-323b67405496"
      },
      "execution_count": null,
      "outputs": [
        {
          "output_type": "execute_result",
          "data": {
            "text/plain": [
              "            make  selling_price  year  kilometers fuel_type transmission  \\\n",
              "0  Maruti Suzuki         8100.0  2014       75000    Diesel       Manual   \n",
              "1        Hyundai         3960.0  2011       67000    Petrol       Manual   \n",
              "2         Toyota        14382.0  2019       37500    Petrol       Manual   \n",
              "3         Toyota        35100.0  2018       69000    Diesel       Manual   \n",
              "4  Maruti Suzuki        12150.0  2017       73315    Petrol       Manual   \n",
              "\n",
              "    location  colour   owner engine_size           max_power  \\\n",
              "0   Ludhiana   White  Second     1248 cc   74 bhp @ 4000 rpm   \n",
              "1    Lucknow  Maroon   First     1197 cc   79 bhp @ 6000 rpm   \n",
              "2  Mangalore     Red   First     1197 cc   82 bhp @ 6000 rpm   \n",
              "3     Mumbai    Grey   First     2393 cc  148 bhp @ 3400 rpm   \n",
              "4       Pune    Grey   First     1373 cc   91 bhp @ 6000 rpm   \n",
              "\n",
              "               max_torque drivetrain  length   width  height  seats  fuel_tank  \n",
              "0       190 Nm @ 2000 rpm        FWD  3995.0  1695.0  1555.0    5.0       42.0  \n",
              "1  112.7619 Nm @ 4000 rpm        FWD  3585.0  1595.0  1550.0    5.0       35.0  \n",
              "2       113 Nm @ 4200 rpm        FWD  3995.0  1745.0  1510.0    5.0       37.0  \n",
              "3       343 Nm @ 1400 rpm        RWD  4735.0  1830.0  1795.0    7.0       55.0  \n",
              "4       130 Nm @ 4000 rpm        FWD  4490.0  1730.0  1485.0    5.0       43.0  "
            ],
            "text/html": [
              "\n",
              "  <div id=\"df-b9e2e04e-5f8f-46af-bc2b-1ee956b0d7a6\">\n",
              "    <div class=\"colab-df-container\">\n",
              "      <div>\n",
              "<style scoped>\n",
              "    .dataframe tbody tr th:only-of-type {\n",
              "        vertical-align: middle;\n",
              "    }\n",
              "\n",
              "    .dataframe tbody tr th {\n",
              "        vertical-align: top;\n",
              "    }\n",
              "\n",
              "    .dataframe thead th {\n",
              "        text-align: right;\n",
              "    }\n",
              "</style>\n",
              "<table border=\"1\" class=\"dataframe\">\n",
              "  <thead>\n",
              "    <tr style=\"text-align: right;\">\n",
              "      <th></th>\n",
              "      <th>make</th>\n",
              "      <th>selling_price</th>\n",
              "      <th>year</th>\n",
              "      <th>kilometers</th>\n",
              "      <th>fuel_type</th>\n",
              "      <th>transmission</th>\n",
              "      <th>location</th>\n",
              "      <th>colour</th>\n",
              "      <th>owner</th>\n",
              "      <th>engine_size</th>\n",
              "      <th>max_power</th>\n",
              "      <th>max_torque</th>\n",
              "      <th>drivetrain</th>\n",
              "      <th>length</th>\n",
              "      <th>width</th>\n",
              "      <th>height</th>\n",
              "      <th>seats</th>\n",
              "      <th>fuel_tank</th>\n",
              "    </tr>\n",
              "  </thead>\n",
              "  <tbody>\n",
              "    <tr>\n",
              "      <th>0</th>\n",
              "      <td>Maruti Suzuki</td>\n",
              "      <td>8100.0</td>\n",
              "      <td>2014</td>\n",
              "      <td>75000</td>\n",
              "      <td>Diesel</td>\n",
              "      <td>Manual</td>\n",
              "      <td>Ludhiana</td>\n",
              "      <td>White</td>\n",
              "      <td>Second</td>\n",
              "      <td>1248 cc</td>\n",
              "      <td>74 bhp @ 4000 rpm</td>\n",
              "      <td>190 Nm @ 2000 rpm</td>\n",
              "      <td>FWD</td>\n",
              "      <td>3995.0</td>\n",
              "      <td>1695.0</td>\n",
              "      <td>1555.0</td>\n",
              "      <td>5.0</td>\n",
              "      <td>42.0</td>\n",
              "    </tr>\n",
              "    <tr>\n",
              "      <th>1</th>\n",
              "      <td>Hyundai</td>\n",
              "      <td>3960.0</td>\n",
              "      <td>2011</td>\n",
              "      <td>67000</td>\n",
              "      <td>Petrol</td>\n",
              "      <td>Manual</td>\n",
              "      <td>Lucknow</td>\n",
              "      <td>Maroon</td>\n",
              "      <td>First</td>\n",
              "      <td>1197 cc</td>\n",
              "      <td>79 bhp @ 6000 rpm</td>\n",
              "      <td>112.7619 Nm @ 4000 rpm</td>\n",
              "      <td>FWD</td>\n",
              "      <td>3585.0</td>\n",
              "      <td>1595.0</td>\n",
              "      <td>1550.0</td>\n",
              "      <td>5.0</td>\n",
              "      <td>35.0</td>\n",
              "    </tr>\n",
              "    <tr>\n",
              "      <th>2</th>\n",
              "      <td>Toyota</td>\n",
              "      <td>14382.0</td>\n",
              "      <td>2019</td>\n",
              "      <td>37500</td>\n",
              "      <td>Petrol</td>\n",
              "      <td>Manual</td>\n",
              "      <td>Mangalore</td>\n",
              "      <td>Red</td>\n",
              "      <td>First</td>\n",
              "      <td>1197 cc</td>\n",
              "      <td>82 bhp @ 6000 rpm</td>\n",
              "      <td>113 Nm @ 4200 rpm</td>\n",
              "      <td>FWD</td>\n",
              "      <td>3995.0</td>\n",
              "      <td>1745.0</td>\n",
              "      <td>1510.0</td>\n",
              "      <td>5.0</td>\n",
              "      <td>37.0</td>\n",
              "    </tr>\n",
              "    <tr>\n",
              "      <th>3</th>\n",
              "      <td>Toyota</td>\n",
              "      <td>35100.0</td>\n",
              "      <td>2018</td>\n",
              "      <td>69000</td>\n",
              "      <td>Diesel</td>\n",
              "      <td>Manual</td>\n",
              "      <td>Mumbai</td>\n",
              "      <td>Grey</td>\n",
              "      <td>First</td>\n",
              "      <td>2393 cc</td>\n",
              "      <td>148 bhp @ 3400 rpm</td>\n",
              "      <td>343 Nm @ 1400 rpm</td>\n",
              "      <td>RWD</td>\n",
              "      <td>4735.0</td>\n",
              "      <td>1830.0</td>\n",
              "      <td>1795.0</td>\n",
              "      <td>7.0</td>\n",
              "      <td>55.0</td>\n",
              "    </tr>\n",
              "    <tr>\n",
              "      <th>4</th>\n",
              "      <td>Maruti Suzuki</td>\n",
              "      <td>12150.0</td>\n",
              "      <td>2017</td>\n",
              "      <td>73315</td>\n",
              "      <td>Petrol</td>\n",
              "      <td>Manual</td>\n",
              "      <td>Pune</td>\n",
              "      <td>Grey</td>\n",
              "      <td>First</td>\n",
              "      <td>1373 cc</td>\n",
              "      <td>91 bhp @ 6000 rpm</td>\n",
              "      <td>130 Nm @ 4000 rpm</td>\n",
              "      <td>FWD</td>\n",
              "      <td>4490.0</td>\n",
              "      <td>1730.0</td>\n",
              "      <td>1485.0</td>\n",
              "      <td>5.0</td>\n",
              "      <td>43.0</td>\n",
              "    </tr>\n",
              "  </tbody>\n",
              "</table>\n",
              "</div>\n",
              "      <button class=\"colab-df-convert\" onclick=\"convertToInteractive('df-b9e2e04e-5f8f-46af-bc2b-1ee956b0d7a6')\"\n",
              "              title=\"Convert this dataframe to an interactive table.\"\n",
              "              style=\"display:none;\">\n",
              "        \n",
              "  <svg xmlns=\"http://www.w3.org/2000/svg\" height=\"24px\"viewBox=\"0 0 24 24\"\n",
              "       width=\"24px\">\n",
              "    <path d=\"M0 0h24v24H0V0z\" fill=\"none\"/>\n",
              "    <path d=\"M18.56 5.44l.94 2.06.94-2.06 2.06-.94-2.06-.94-.94-2.06-.94 2.06-2.06.94zm-11 1L8.5 8.5l.94-2.06 2.06-.94-2.06-.94L8.5 2.5l-.94 2.06-2.06.94zm10 10l.94 2.06.94-2.06 2.06-.94-2.06-.94-.94-2.06-.94 2.06-2.06.94z\"/><path d=\"M17.41 7.96l-1.37-1.37c-.4-.4-.92-.59-1.43-.59-.52 0-1.04.2-1.43.59L10.3 9.45l-7.72 7.72c-.78.78-.78 2.05 0 2.83L4 21.41c.39.39.9.59 1.41.59.51 0 1.02-.2 1.41-.59l7.78-7.78 2.81-2.81c.8-.78.8-2.07 0-2.86zM5.41 20L4 18.59l7.72-7.72 1.47 1.35L5.41 20z\"/>\n",
              "  </svg>\n",
              "      </button>\n",
              "      \n",
              "  <style>\n",
              "    .colab-df-container {\n",
              "      display:flex;\n",
              "      flex-wrap:wrap;\n",
              "      gap: 12px;\n",
              "    }\n",
              "\n",
              "    .colab-df-convert {\n",
              "      background-color: #E8F0FE;\n",
              "      border: none;\n",
              "      border-radius: 50%;\n",
              "      cursor: pointer;\n",
              "      display: none;\n",
              "      fill: #1967D2;\n",
              "      height: 32px;\n",
              "      padding: 0 0 0 0;\n",
              "      width: 32px;\n",
              "    }\n",
              "\n",
              "    .colab-df-convert:hover {\n",
              "      background-color: #E2EBFA;\n",
              "      box-shadow: 0px 1px 2px rgba(60, 64, 67, 0.3), 0px 1px 3px 1px rgba(60, 64, 67, 0.15);\n",
              "      fill: #174EA6;\n",
              "    }\n",
              "\n",
              "    [theme=dark] .colab-df-convert {\n",
              "      background-color: #3B4455;\n",
              "      fill: #D2E3FC;\n",
              "    }\n",
              "\n",
              "    [theme=dark] .colab-df-convert:hover {\n",
              "      background-color: #434B5C;\n",
              "      box-shadow: 0px 1px 3px 1px rgba(0, 0, 0, 0.15);\n",
              "      filter: drop-shadow(0px 1px 2px rgba(0, 0, 0, 0.3));\n",
              "      fill: #FFFFFF;\n",
              "    }\n",
              "  </style>\n",
              "\n",
              "      <script>\n",
              "        const buttonEl =\n",
              "          document.querySelector('#df-b9e2e04e-5f8f-46af-bc2b-1ee956b0d7a6 button.colab-df-convert');\n",
              "        buttonEl.style.display =\n",
              "          google.colab.kernel.accessAllowed ? 'block' : 'none';\n",
              "\n",
              "        async function convertToInteractive(key) {\n",
              "          const element = document.querySelector('#df-b9e2e04e-5f8f-46af-bc2b-1ee956b0d7a6');\n",
              "          const dataTable =\n",
              "            await google.colab.kernel.invokeFunction('convertToInteractive',\n",
              "                                                     [key], {});\n",
              "          if (!dataTable) return;\n",
              "\n",
              "          const docLinkHtml = 'Like what you see? Visit the ' +\n",
              "            '<a target=\"_blank\" href=https://colab.research.google.com/notebooks/data_table.ipynb>data table notebook</a>'\n",
              "            + ' to learn more about interactive tables.';\n",
              "          element.innerHTML = '';\n",
              "          dataTable['output_type'] = 'display_data';\n",
              "          await google.colab.output.renderOutput(dataTable, element);\n",
              "          const docLink = document.createElement('div');\n",
              "          docLink.innerHTML = docLinkHtml;\n",
              "          element.appendChild(docLink);\n",
              "        }\n",
              "      </script>\n",
              "    </div>\n",
              "  </div>\n",
              "  "
            ]
          },
          "metadata": {},
          "execution_count": 10
        }
      ]
    },
    {
      "cell_type": "markdown",
      "source": [
        "# Getting rid of some part of the value\n",
        "So I will attemp to only get rid of the letters and keep the numbers in the values in 'enginez_size'. And since when we analysis the dataset, we were told the max power and max torque don't matter in our analysis, we will get rid of the two columns completely."
      ],
      "metadata": {
        "id": "RDFClPp5jpqF"
      }
    },
    {
      "cell_type": "code",
      "source": [
        "cars['engine_size'] = cars['engine_size'].astype(str).str.replace('cc', '')\n",
        "# we change the column type to str so we could get rid of the cc, now we need to change it back to numeric so we can replace the missing values with mean\n",
        "cars['engine_size'] = cars['engine_size'].astype(float)\n",
        "# replacing the missing values with mean in engine_size\n",
        "cars.head(5)"
      ],
      "metadata": {
        "colab": {
          "base_uri": "https://localhost:8080/",
          "height": 374
        },
        "id": "Bfd8uolLjyAC",
        "outputId": "078ae9d8-e905-49ac-ce21-778016bb195f"
      },
      "execution_count": null,
      "outputs": [
        {
          "output_type": "execute_result",
          "data": {
            "text/plain": [
              "            make  selling_price  year  kilometers fuel_type transmission  \\\n",
              "0  Maruti Suzuki         8100.0  2014       75000    Diesel       Manual   \n",
              "1        Hyundai         3960.0  2011       67000    Petrol       Manual   \n",
              "2         Toyota        14382.0  2019       37500    Petrol       Manual   \n",
              "3         Toyota        35100.0  2018       69000    Diesel       Manual   \n",
              "4  Maruti Suzuki        12150.0  2017       73315    Petrol       Manual   \n",
              "\n",
              "    location  colour   owner  engine_size           max_power  \\\n",
              "0   Ludhiana   White  Second       1248.0   74 bhp @ 4000 rpm   \n",
              "1    Lucknow  Maroon   First       1197.0   79 bhp @ 6000 rpm   \n",
              "2  Mangalore     Red   First       1197.0   82 bhp @ 6000 rpm   \n",
              "3     Mumbai    Grey   First       2393.0  148 bhp @ 3400 rpm   \n",
              "4       Pune    Grey   First       1373.0   91 bhp @ 6000 rpm   \n",
              "\n",
              "               max_torque drivetrain  length   width  height  seats  fuel_tank  \n",
              "0       190 Nm @ 2000 rpm        FWD  3995.0  1695.0  1555.0    5.0       42.0  \n",
              "1  112.7619 Nm @ 4000 rpm        FWD  3585.0  1595.0  1550.0    5.0       35.0  \n",
              "2       113 Nm @ 4200 rpm        FWD  3995.0  1745.0  1510.0    5.0       37.0  \n",
              "3       343 Nm @ 1400 rpm        RWD  4735.0  1830.0  1795.0    7.0       55.0  \n",
              "4       130 Nm @ 4000 rpm        FWD  4490.0  1730.0  1485.0    5.0       43.0  "
            ],
            "text/html": [
              "\n",
              "  <div id=\"df-f3339666-dca9-4eda-9a98-3c4bc4ad438f\">\n",
              "    <div class=\"colab-df-container\">\n",
              "      <div>\n",
              "<style scoped>\n",
              "    .dataframe tbody tr th:only-of-type {\n",
              "        vertical-align: middle;\n",
              "    }\n",
              "\n",
              "    .dataframe tbody tr th {\n",
              "        vertical-align: top;\n",
              "    }\n",
              "\n",
              "    .dataframe thead th {\n",
              "        text-align: right;\n",
              "    }\n",
              "</style>\n",
              "<table border=\"1\" class=\"dataframe\">\n",
              "  <thead>\n",
              "    <tr style=\"text-align: right;\">\n",
              "      <th></th>\n",
              "      <th>make</th>\n",
              "      <th>selling_price</th>\n",
              "      <th>year</th>\n",
              "      <th>kilometers</th>\n",
              "      <th>fuel_type</th>\n",
              "      <th>transmission</th>\n",
              "      <th>location</th>\n",
              "      <th>colour</th>\n",
              "      <th>owner</th>\n",
              "      <th>engine_size</th>\n",
              "      <th>max_power</th>\n",
              "      <th>max_torque</th>\n",
              "      <th>drivetrain</th>\n",
              "      <th>length</th>\n",
              "      <th>width</th>\n",
              "      <th>height</th>\n",
              "      <th>seats</th>\n",
              "      <th>fuel_tank</th>\n",
              "    </tr>\n",
              "  </thead>\n",
              "  <tbody>\n",
              "    <tr>\n",
              "      <th>0</th>\n",
              "      <td>Maruti Suzuki</td>\n",
              "      <td>8100.0</td>\n",
              "      <td>2014</td>\n",
              "      <td>75000</td>\n",
              "      <td>Diesel</td>\n",
              "      <td>Manual</td>\n",
              "      <td>Ludhiana</td>\n",
              "      <td>White</td>\n",
              "      <td>Second</td>\n",
              "      <td>1248.0</td>\n",
              "      <td>74 bhp @ 4000 rpm</td>\n",
              "      <td>190 Nm @ 2000 rpm</td>\n",
              "      <td>FWD</td>\n",
              "      <td>3995.0</td>\n",
              "      <td>1695.0</td>\n",
              "      <td>1555.0</td>\n",
              "      <td>5.0</td>\n",
              "      <td>42.0</td>\n",
              "    </tr>\n",
              "    <tr>\n",
              "      <th>1</th>\n",
              "      <td>Hyundai</td>\n",
              "      <td>3960.0</td>\n",
              "      <td>2011</td>\n",
              "      <td>67000</td>\n",
              "      <td>Petrol</td>\n",
              "      <td>Manual</td>\n",
              "      <td>Lucknow</td>\n",
              "      <td>Maroon</td>\n",
              "      <td>First</td>\n",
              "      <td>1197.0</td>\n",
              "      <td>79 bhp @ 6000 rpm</td>\n",
              "      <td>112.7619 Nm @ 4000 rpm</td>\n",
              "      <td>FWD</td>\n",
              "      <td>3585.0</td>\n",
              "      <td>1595.0</td>\n",
              "      <td>1550.0</td>\n",
              "      <td>5.0</td>\n",
              "      <td>35.0</td>\n",
              "    </tr>\n",
              "    <tr>\n",
              "      <th>2</th>\n",
              "      <td>Toyota</td>\n",
              "      <td>14382.0</td>\n",
              "      <td>2019</td>\n",
              "      <td>37500</td>\n",
              "      <td>Petrol</td>\n",
              "      <td>Manual</td>\n",
              "      <td>Mangalore</td>\n",
              "      <td>Red</td>\n",
              "      <td>First</td>\n",
              "      <td>1197.0</td>\n",
              "      <td>82 bhp @ 6000 rpm</td>\n",
              "      <td>113 Nm @ 4200 rpm</td>\n",
              "      <td>FWD</td>\n",
              "      <td>3995.0</td>\n",
              "      <td>1745.0</td>\n",
              "      <td>1510.0</td>\n",
              "      <td>5.0</td>\n",
              "      <td>37.0</td>\n",
              "    </tr>\n",
              "    <tr>\n",
              "      <th>3</th>\n",
              "      <td>Toyota</td>\n",
              "      <td>35100.0</td>\n",
              "      <td>2018</td>\n",
              "      <td>69000</td>\n",
              "      <td>Diesel</td>\n",
              "      <td>Manual</td>\n",
              "      <td>Mumbai</td>\n",
              "      <td>Grey</td>\n",
              "      <td>First</td>\n",
              "      <td>2393.0</td>\n",
              "      <td>148 bhp @ 3400 rpm</td>\n",
              "      <td>343 Nm @ 1400 rpm</td>\n",
              "      <td>RWD</td>\n",
              "      <td>4735.0</td>\n",
              "      <td>1830.0</td>\n",
              "      <td>1795.0</td>\n",
              "      <td>7.0</td>\n",
              "      <td>55.0</td>\n",
              "    </tr>\n",
              "    <tr>\n",
              "      <th>4</th>\n",
              "      <td>Maruti Suzuki</td>\n",
              "      <td>12150.0</td>\n",
              "      <td>2017</td>\n",
              "      <td>73315</td>\n",
              "      <td>Petrol</td>\n",
              "      <td>Manual</td>\n",
              "      <td>Pune</td>\n",
              "      <td>Grey</td>\n",
              "      <td>First</td>\n",
              "      <td>1373.0</td>\n",
              "      <td>91 bhp @ 6000 rpm</td>\n",
              "      <td>130 Nm @ 4000 rpm</td>\n",
              "      <td>FWD</td>\n",
              "      <td>4490.0</td>\n",
              "      <td>1730.0</td>\n",
              "      <td>1485.0</td>\n",
              "      <td>5.0</td>\n",
              "      <td>43.0</td>\n",
              "    </tr>\n",
              "  </tbody>\n",
              "</table>\n",
              "</div>\n",
              "      <button class=\"colab-df-convert\" onclick=\"convertToInteractive('df-f3339666-dca9-4eda-9a98-3c4bc4ad438f')\"\n",
              "              title=\"Convert this dataframe to an interactive table.\"\n",
              "              style=\"display:none;\">\n",
              "        \n",
              "  <svg xmlns=\"http://www.w3.org/2000/svg\" height=\"24px\"viewBox=\"0 0 24 24\"\n",
              "       width=\"24px\">\n",
              "    <path d=\"M0 0h24v24H0V0z\" fill=\"none\"/>\n",
              "    <path d=\"M18.56 5.44l.94 2.06.94-2.06 2.06-.94-2.06-.94-.94-2.06-.94 2.06-2.06.94zm-11 1L8.5 8.5l.94-2.06 2.06-.94-2.06-.94L8.5 2.5l-.94 2.06-2.06.94zm10 10l.94 2.06.94-2.06 2.06-.94-2.06-.94-.94-2.06-.94 2.06-2.06.94z\"/><path d=\"M17.41 7.96l-1.37-1.37c-.4-.4-.92-.59-1.43-.59-.52 0-1.04.2-1.43.59L10.3 9.45l-7.72 7.72c-.78.78-.78 2.05 0 2.83L4 21.41c.39.39.9.59 1.41.59.51 0 1.02-.2 1.41-.59l7.78-7.78 2.81-2.81c.8-.78.8-2.07 0-2.86zM5.41 20L4 18.59l7.72-7.72 1.47 1.35L5.41 20z\"/>\n",
              "  </svg>\n",
              "      </button>\n",
              "      \n",
              "  <style>\n",
              "    .colab-df-container {\n",
              "      display:flex;\n",
              "      flex-wrap:wrap;\n",
              "      gap: 12px;\n",
              "    }\n",
              "\n",
              "    .colab-df-convert {\n",
              "      background-color: #E8F0FE;\n",
              "      border: none;\n",
              "      border-radius: 50%;\n",
              "      cursor: pointer;\n",
              "      display: none;\n",
              "      fill: #1967D2;\n",
              "      height: 32px;\n",
              "      padding: 0 0 0 0;\n",
              "      width: 32px;\n",
              "    }\n",
              "\n",
              "    .colab-df-convert:hover {\n",
              "      background-color: #E2EBFA;\n",
              "      box-shadow: 0px 1px 2px rgba(60, 64, 67, 0.3), 0px 1px 3px 1px rgba(60, 64, 67, 0.15);\n",
              "      fill: #174EA6;\n",
              "    }\n",
              "\n",
              "    [theme=dark] .colab-df-convert {\n",
              "      background-color: #3B4455;\n",
              "      fill: #D2E3FC;\n",
              "    }\n",
              "\n",
              "    [theme=dark] .colab-df-convert:hover {\n",
              "      background-color: #434B5C;\n",
              "      box-shadow: 0px 1px 3px 1px rgba(0, 0, 0, 0.15);\n",
              "      filter: drop-shadow(0px 1px 2px rgba(0, 0, 0, 0.3));\n",
              "      fill: #FFFFFF;\n",
              "    }\n",
              "  </style>\n",
              "\n",
              "      <script>\n",
              "        const buttonEl =\n",
              "          document.querySelector('#df-f3339666-dca9-4eda-9a98-3c4bc4ad438f button.colab-df-convert');\n",
              "        buttonEl.style.display =\n",
              "          google.colab.kernel.accessAllowed ? 'block' : 'none';\n",
              "\n",
              "        async function convertToInteractive(key) {\n",
              "          const element = document.querySelector('#df-f3339666-dca9-4eda-9a98-3c4bc4ad438f');\n",
              "          const dataTable =\n",
              "            await google.colab.kernel.invokeFunction('convertToInteractive',\n",
              "                                                     [key], {});\n",
              "          if (!dataTable) return;\n",
              "\n",
              "          const docLinkHtml = 'Like what you see? Visit the ' +\n",
              "            '<a target=\"_blank\" href=https://colab.research.google.com/notebooks/data_table.ipynb>data table notebook</a>'\n",
              "            + ' to learn more about interactive tables.';\n",
              "          element.innerHTML = '';\n",
              "          dataTable['output_type'] = 'display_data';\n",
              "          await google.colab.output.renderOutput(dataTable, element);\n",
              "          const docLink = document.createElement('div');\n",
              "          docLink.innerHTML = docLinkHtml;\n",
              "          element.appendChild(docLink);\n",
              "        }\n",
              "      </script>\n",
              "    </div>\n",
              "  </div>\n",
              "  "
            ]
          },
          "metadata": {},
          "execution_count": 11
        }
      ]
    },
    {
      "cell_type": "markdown",
      "source": [
        "# Drop the max_power and max_torque"
      ],
      "metadata": {
        "id": "bW4iG68Km-Y7"
      }
    },
    {
      "cell_type": "code",
      "source": [
        "cars = cars.drop([\"max_power\", \"max_torque\", \"drivetrain\"], axis=1)"
      ],
      "metadata": {
        "id": "UaQAxvmYnC_e"
      },
      "execution_count": null,
      "outputs": []
    },
    {
      "cell_type": "markdown",
      "source": [
        "#Replace missing values in engine_size with mean"
      ],
      "metadata": {
        "id": "pdpCOK02nJ1C"
      }
    },
    {
      "cell_type": "code",
      "source": [
        "cars.fillna(cars.mean(), inplace=True)\n",
        "print(cars.isnull().sum())"
      ],
      "metadata": {
        "colab": {
          "base_uri": "https://localhost:8080/"
        },
        "id": "0siK26runN2R",
        "outputId": "0538c90d-d641-4440-c1f8-fdd9917c2da0"
      },
      "execution_count": null,
      "outputs": [
        {
          "output_type": "stream",
          "name": "stdout",
          "text": [
            "make             0\n",
            "selling_price    0\n",
            "year             0\n",
            "kilometers       0\n",
            "fuel_type        0\n",
            "transmission     0\n",
            "location         0\n",
            "colour           0\n",
            "owner            0\n",
            "engine_size      0\n",
            "length           0\n",
            "width            0\n",
            "height           0\n",
            "seats            0\n",
            "fuel_tank        0\n",
            "dtype: int64\n"
          ]
        },
        {
          "output_type": "stream",
          "name": "stderr",
          "text": [
            "<ipython-input-13-87e60aa9e917>:1: FutureWarning: The default value of numeric_only in DataFrame.mean is deprecated. In a future version, it will default to False. In addition, specifying 'numeric_only=None' is deprecated. Select only valid columns or specify the value of numeric_only to silence this warning.\n",
            "  cars.fillna(cars.mean(), inplace=True)\n"
          ]
        }
      ]
    },
    {
      "cell_type": "markdown",
      "source": [
        "Summary statistic for numerical columns in the dataset"
      ],
      "metadata": {
        "id": "jhG9rRDtZDtw"
      }
    },
    {
      "cell_type": "code",
      "source": [
        "cars.describe()\n",
        "# average of the selling price is $29,998, average kilometer drove by previous owner is 54,511"
      ],
      "metadata": {
        "colab": {
          "base_uri": "https://localhost:8080/",
          "height": 300
        },
        "id": "m90aPHjMZMaS",
        "outputId": "22880c35-8fd5-464f-9572-a4680b2bcfbb"
      },
      "execution_count": null,
      "outputs": [
        {
          "output_type": "execute_result",
          "data": {
            "text/plain": [
              "       selling_price         year    kilometers  engine_size       length  \\\n",
              "count    1997.000000  1997.000000  1.997000e+03  1997.000000  1997.000000   \n",
              "mean    29998.364710  2016.404106  5.451108e+04  1684.528125  4275.199897   \n",
              "std     42936.885981     3.368997  5.799638e+04   620.815933   436.816106   \n",
              "min       882.000000  1988.000000  0.000000e+00   624.000000  3099.000000   \n",
              "25%      8550.000000  2014.000000  2.938600e+04  1198.000000  3985.000000   \n",
              "50%     14759.982000  2017.000000  5.000000e+04  1498.000000  4315.000000   \n",
              "75%     33750.000000  2019.000000  7.200000e+04  1995.000000  4600.000000   \n",
              "max    630000.000000  2022.000000  2.000000e+06  6592.000000  5569.000000   \n",
              "\n",
              "             width       height        seats    fuel_tank  \n",
              "count  1997.000000  1997.000000  1997.000000  1997.000000  \n",
              "mean   1766.619318  1592.308884     5.311467    51.863242  \n",
              "std     133.518807   133.904322     0.811733    14.713277  \n",
              "min    1475.000000  1165.000000     2.000000    15.000000  \n",
              "25%    1695.000000  1485.000000     5.000000    42.000000  \n",
              "50%    1766.619318  1550.000000     5.000000    50.000000  \n",
              "75%    1831.000000  1674.000000     5.000000    60.000000  \n",
              "max    2220.000000  1995.000000     8.000000   105.000000  "
            ],
            "text/html": [
              "\n",
              "  <div id=\"df-7b2d4b77-5908-4b19-a971-22f014c274c2\">\n",
              "    <div class=\"colab-df-container\">\n",
              "      <div>\n",
              "<style scoped>\n",
              "    .dataframe tbody tr th:only-of-type {\n",
              "        vertical-align: middle;\n",
              "    }\n",
              "\n",
              "    .dataframe tbody tr th {\n",
              "        vertical-align: top;\n",
              "    }\n",
              "\n",
              "    .dataframe thead th {\n",
              "        text-align: right;\n",
              "    }\n",
              "</style>\n",
              "<table border=\"1\" class=\"dataframe\">\n",
              "  <thead>\n",
              "    <tr style=\"text-align: right;\">\n",
              "      <th></th>\n",
              "      <th>selling_price</th>\n",
              "      <th>year</th>\n",
              "      <th>kilometers</th>\n",
              "      <th>engine_size</th>\n",
              "      <th>length</th>\n",
              "      <th>width</th>\n",
              "      <th>height</th>\n",
              "      <th>seats</th>\n",
              "      <th>fuel_tank</th>\n",
              "    </tr>\n",
              "  </thead>\n",
              "  <tbody>\n",
              "    <tr>\n",
              "      <th>count</th>\n",
              "      <td>1997.000000</td>\n",
              "      <td>1997.000000</td>\n",
              "      <td>1.997000e+03</td>\n",
              "      <td>1997.000000</td>\n",
              "      <td>1997.000000</td>\n",
              "      <td>1997.000000</td>\n",
              "      <td>1997.000000</td>\n",
              "      <td>1997.000000</td>\n",
              "      <td>1997.000000</td>\n",
              "    </tr>\n",
              "    <tr>\n",
              "      <th>mean</th>\n",
              "      <td>29998.364710</td>\n",
              "      <td>2016.404106</td>\n",
              "      <td>5.451108e+04</td>\n",
              "      <td>1684.528125</td>\n",
              "      <td>4275.199897</td>\n",
              "      <td>1766.619318</td>\n",
              "      <td>1592.308884</td>\n",
              "      <td>5.311467</td>\n",
              "      <td>51.863242</td>\n",
              "    </tr>\n",
              "    <tr>\n",
              "      <th>std</th>\n",
              "      <td>42936.885981</td>\n",
              "      <td>3.368997</td>\n",
              "      <td>5.799638e+04</td>\n",
              "      <td>620.815933</td>\n",
              "      <td>436.816106</td>\n",
              "      <td>133.518807</td>\n",
              "      <td>133.904322</td>\n",
              "      <td>0.811733</td>\n",
              "      <td>14.713277</td>\n",
              "    </tr>\n",
              "    <tr>\n",
              "      <th>min</th>\n",
              "      <td>882.000000</td>\n",
              "      <td>1988.000000</td>\n",
              "      <td>0.000000e+00</td>\n",
              "      <td>624.000000</td>\n",
              "      <td>3099.000000</td>\n",
              "      <td>1475.000000</td>\n",
              "      <td>1165.000000</td>\n",
              "      <td>2.000000</td>\n",
              "      <td>15.000000</td>\n",
              "    </tr>\n",
              "    <tr>\n",
              "      <th>25%</th>\n",
              "      <td>8550.000000</td>\n",
              "      <td>2014.000000</td>\n",
              "      <td>2.938600e+04</td>\n",
              "      <td>1198.000000</td>\n",
              "      <td>3985.000000</td>\n",
              "      <td>1695.000000</td>\n",
              "      <td>1485.000000</td>\n",
              "      <td>5.000000</td>\n",
              "      <td>42.000000</td>\n",
              "    </tr>\n",
              "    <tr>\n",
              "      <th>50%</th>\n",
              "      <td>14759.982000</td>\n",
              "      <td>2017.000000</td>\n",
              "      <td>5.000000e+04</td>\n",
              "      <td>1498.000000</td>\n",
              "      <td>4315.000000</td>\n",
              "      <td>1766.619318</td>\n",
              "      <td>1550.000000</td>\n",
              "      <td>5.000000</td>\n",
              "      <td>50.000000</td>\n",
              "    </tr>\n",
              "    <tr>\n",
              "      <th>75%</th>\n",
              "      <td>33750.000000</td>\n",
              "      <td>2019.000000</td>\n",
              "      <td>7.200000e+04</td>\n",
              "      <td>1995.000000</td>\n",
              "      <td>4600.000000</td>\n",
              "      <td>1831.000000</td>\n",
              "      <td>1674.000000</td>\n",
              "      <td>5.000000</td>\n",
              "      <td>60.000000</td>\n",
              "    </tr>\n",
              "    <tr>\n",
              "      <th>max</th>\n",
              "      <td>630000.000000</td>\n",
              "      <td>2022.000000</td>\n",
              "      <td>2.000000e+06</td>\n",
              "      <td>6592.000000</td>\n",
              "      <td>5569.000000</td>\n",
              "      <td>2220.000000</td>\n",
              "      <td>1995.000000</td>\n",
              "      <td>8.000000</td>\n",
              "      <td>105.000000</td>\n",
              "    </tr>\n",
              "  </tbody>\n",
              "</table>\n",
              "</div>\n",
              "      <button class=\"colab-df-convert\" onclick=\"convertToInteractive('df-7b2d4b77-5908-4b19-a971-22f014c274c2')\"\n",
              "              title=\"Convert this dataframe to an interactive table.\"\n",
              "              style=\"display:none;\">\n",
              "        \n",
              "  <svg xmlns=\"http://www.w3.org/2000/svg\" height=\"24px\"viewBox=\"0 0 24 24\"\n",
              "       width=\"24px\">\n",
              "    <path d=\"M0 0h24v24H0V0z\" fill=\"none\"/>\n",
              "    <path d=\"M18.56 5.44l.94 2.06.94-2.06 2.06-.94-2.06-.94-.94-2.06-.94 2.06-2.06.94zm-11 1L8.5 8.5l.94-2.06 2.06-.94-2.06-.94L8.5 2.5l-.94 2.06-2.06.94zm10 10l.94 2.06.94-2.06 2.06-.94-2.06-.94-.94-2.06-.94 2.06-2.06.94z\"/><path d=\"M17.41 7.96l-1.37-1.37c-.4-.4-.92-.59-1.43-.59-.52 0-1.04.2-1.43.59L10.3 9.45l-7.72 7.72c-.78.78-.78 2.05 0 2.83L4 21.41c.39.39.9.59 1.41.59.51 0 1.02-.2 1.41-.59l7.78-7.78 2.81-2.81c.8-.78.8-2.07 0-2.86zM5.41 20L4 18.59l7.72-7.72 1.47 1.35L5.41 20z\"/>\n",
              "  </svg>\n",
              "      </button>\n",
              "      \n",
              "  <style>\n",
              "    .colab-df-container {\n",
              "      display:flex;\n",
              "      flex-wrap:wrap;\n",
              "      gap: 12px;\n",
              "    }\n",
              "\n",
              "    .colab-df-convert {\n",
              "      background-color: #E8F0FE;\n",
              "      border: none;\n",
              "      border-radius: 50%;\n",
              "      cursor: pointer;\n",
              "      display: none;\n",
              "      fill: #1967D2;\n",
              "      height: 32px;\n",
              "      padding: 0 0 0 0;\n",
              "      width: 32px;\n",
              "    }\n",
              "\n",
              "    .colab-df-convert:hover {\n",
              "      background-color: #E2EBFA;\n",
              "      box-shadow: 0px 1px 2px rgba(60, 64, 67, 0.3), 0px 1px 3px 1px rgba(60, 64, 67, 0.15);\n",
              "      fill: #174EA6;\n",
              "    }\n",
              "\n",
              "    [theme=dark] .colab-df-convert {\n",
              "      background-color: #3B4455;\n",
              "      fill: #D2E3FC;\n",
              "    }\n",
              "\n",
              "    [theme=dark] .colab-df-convert:hover {\n",
              "      background-color: #434B5C;\n",
              "      box-shadow: 0px 1px 3px 1px rgba(0, 0, 0, 0.15);\n",
              "      filter: drop-shadow(0px 1px 2px rgba(0, 0, 0, 0.3));\n",
              "      fill: #FFFFFF;\n",
              "    }\n",
              "  </style>\n",
              "\n",
              "      <script>\n",
              "        const buttonEl =\n",
              "          document.querySelector('#df-7b2d4b77-5908-4b19-a971-22f014c274c2 button.colab-df-convert');\n",
              "        buttonEl.style.display =\n",
              "          google.colab.kernel.accessAllowed ? 'block' : 'none';\n",
              "\n",
              "        async function convertToInteractive(key) {\n",
              "          const element = document.querySelector('#df-7b2d4b77-5908-4b19-a971-22f014c274c2');\n",
              "          const dataTable =\n",
              "            await google.colab.kernel.invokeFunction('convertToInteractive',\n",
              "                                                     [key], {});\n",
              "          if (!dataTable) return;\n",
              "\n",
              "          const docLinkHtml = 'Like what you see? Visit the ' +\n",
              "            '<a target=\"_blank\" href=https://colab.research.google.com/notebooks/data_table.ipynb>data table notebook</a>'\n",
              "            + ' to learn more about interactive tables.';\n",
              "          element.innerHTML = '';\n",
              "          dataTable['output_type'] = 'display_data';\n",
              "          await google.colab.output.renderOutput(dataTable, element);\n",
              "          const docLink = document.createElement('div');\n",
              "          docLink.innerHTML = docLinkHtml;\n",
              "          element.appendChild(docLink);\n",
              "        }\n",
              "      </script>\n",
              "    </div>\n",
              "  </div>\n",
              "  "
            ]
          },
          "metadata": {},
          "execution_count": 96
        }
      ]
    },
    {
      "cell_type": "markdown",
      "source": [
        "# We want to change some of the texts to numbers so it's easier when we plot it\n",
        "The variables that we care for:\n",
        "transmission\n",
        "owner\n",
        "fuel type"
      ],
      "metadata": {
        "id": "48BgfgxLhUzA"
      }
    },
    {
      "cell_type": "code",
      "source": [
        "# We know the transmission only have two values Manual and Automatic\n",
        "\n",
        "# So changing Manual to 1 and Automatic to 2\n",
        "mapping_dict = {'Manual': 1, 'Automatic': 2}\n",
        "\n",
        "cars['transmission'] = cars['transmission'].map(mapping_dict)"
      ],
      "metadata": {
        "id": "8UOlxdt5hrla"
      },
      "execution_count": null,
      "outputs": []
    },
    {
      "cell_type": "code",
      "source": [
        "# take a look at different values under the \"owner\" column so we can change them to numeric values later\n",
        "print(cars['owner'].value_counts())"
      ],
      "metadata": {
        "colab": {
          "base_uri": "https://localhost:8080/"
        },
        "id": "pclDkWKKiugp",
        "outputId": "b8c00e16-5d59-4f98-d75c-85c9612bc953"
      },
      "execution_count": null,
      "outputs": [
        {
          "output_type": "stream",
          "name": "stdout",
          "text": [
            "First               1562\n",
            "Second               368\n",
            "Third                 42\n",
            "UnRegistered Car      21\n",
            "Fourth                 3\n",
            "4 or More              1\n",
            "Name: owner, dtype: int64\n"
          ]
        }
      ]
    },
    {
      "cell_type": "code",
      "source": [
        "# Change the owner to numeric vables\n",
        "owner_map = {'First': 1, 'Second': 2, 'Third': 3, 'Fourth': 4, '4 or More': 4, 'UnRegistered Car': 5}\n",
        "cars['owner'] = cars['owner'].map(owner_map)"
      ],
      "metadata": {
        "id": "9eogy38KlEFa"
      },
      "execution_count": null,
      "outputs": []
    },
    {
      "cell_type": "code",
      "source": [
        "# Take a look at the fuel types\n",
        "print(cars['fuel_type'].value_counts())\n",
        "\n",
        "# They are messy so we are going to simplify it by just having FIVE values\n",
        "# Btw CNG is compressed natural gas and LPG liquefied petroleum gas"
      ],
      "metadata": {
        "colab": {
          "base_uri": "https://localhost:8080/"
        },
        "id": "U9RxSQ3xlr7c",
        "outputId": "ab018ade-5db1-4805-bcf9-329321290746"
      },
      "execution_count": null,
      "outputs": [
        {
          "output_type": "stream",
          "name": "stdout",
          "text": [
            "Diesel          1019\n",
            "Petrol           910\n",
            "CNG               50\n",
            "Electric           7\n",
            "LPG                5\n",
            "Hybrid             3\n",
            "CNG + CNG          1\n",
            "Petrol + CNG       1\n",
            "Petrol + LPG       1\n",
            "Name: fuel_type, dtype: int64\n"
          ]
        }
      ]
    },
    {
      "cell_type": "code",
      "source": [
        "# Change the fuel type to numeric vables\n",
        "fuel_type_map = {'Petrol': 1, 'Diesel': 2, 'Hybrid': 3, 'Electric': 4, 'CNG': 5, 'LPG': 5, 'CNG + CNG': 5, 'Petrol + CNG': 5, 'Petrol + LPG': 5  }\n",
        "cars['fuel_type'] = cars['fuel_type'].map(fuel_type_map)"
      ],
      "metadata": {
        "id": "X5fiZmW5mSGQ"
      },
      "execution_count": null,
      "outputs": []
    },
    {
      "cell_type": "markdown",
      "source": [
        "# The rest of data exploration\n",
        "For example heatmap"
      ],
      "metadata": {
        "id": "aPg1p198pli4"
      }
    },
    {
      "cell_type": "code",
      "source": [
        "# calculate correlation matrix\n",
        "corr = cars.corr()"
      ],
      "metadata": {
        "id": "trxHqEW0pnTh",
        "colab": {
          "base_uri": "https://localhost:8080/"
        },
        "outputId": "2dc68b88-0535-4929-e857-711a843bb826"
      },
      "execution_count": null,
      "outputs": [
        {
          "output_type": "stream",
          "name": "stderr",
          "text": [
            "<ipython-input-32-20b19234648d>:2: FutureWarning: The default value of numeric_only in DataFrame.corr is deprecated. In a future version, it will default to False. Select only valid columns or specify the value of numeric_only to silence this warning.\n",
            "  corr = cars.corr()\n"
          ]
        }
      ]
    },
    {
      "cell_type": "code",
      "source": [
        "plt.figure(figsize=(10, 8))\n",
        "sns.heatmap(corr, cmap='coolwarm', annot=True)\n",
        "plt.title('Correlation Matrix')\n",
        "plt.show()\n",
        "\n",
        "# the number 1 in red is the relationship between the variable and the variable itself so of course it's 1\n",
        "# some examples from this map we can see there is a correlation between the length and the width of the car, which is reasonable, there is also a correlation between the size of the car and the engine size\n",
        "\n",
        "# But essentially what we are looking for is which variables can affect the selling price of the car. And engine size is on the top of the list.\n"
      ],
      "metadata": {
        "colab": {
          "base_uri": "https://localhost:8080/",
          "height": 576
        },
        "id": "W39s4KS1chgu",
        "outputId": "e2c17f12-2e74-498a-949f-9e188d4ffbb7"
      },
      "execution_count": null,
      "outputs": [
        {
          "output_type": "display_data",
          "data": {
            "text/plain": [
              "<Figure size 1000x800 with 2 Axes>"
            ],
            "image/png": "[encoded data removed]"
          },
          "metadata": {}
        }
      ]
    },
    {
      "cell_type": "markdown",
      "source": [
        "# After reviewing the heatmap\n",
        "We got a better understanding of the relationships between variables.\n",
        "So now we going to do some plotting"
      ],
      "metadata": {
        "id": "ONiep77qf5Iw"
      }
    },
    {
      "cell_type": "code",
      "source": [
        "# Have a look at the engine size and selling price\n",
        "plt.scatter(cars['engine_size'], cars['selling_price'])\n",
        "plt.xlabel('Engine Size')\n",
        "plt.ylabel('Selling Price')\n",
        "plt.show()"
      ],
      "metadata": {
        "colab": {
          "base_uri": "https://localhost:8080/",
          "height": 449
        },
        "id": "dqJxMwMVgDmx",
        "outputId": "df4c6565-538a-4e14-c19a-88d4c104e316"
      },
      "execution_count": null,
      "outputs": [
        {
          "output_type": "display_data",
          "data": {
            "text/plain": [
              "<Figure size 640x480 with 1 Axes>"
            ],
            "image/png": "[encoded data removed]"
          },
          "metadata": {}
        }
      ]
    },
    {
      "cell_type": "code",
      "source": [
        "# Have a look at the number of previous owners and the selling price\n",
        "plt.scatter(cars['owner'], cars['selling_price'])\n",
        "plt.xlabel('Number of previous owners')\n",
        "plt.ylabel('Selling Price')\n",
        "plt.show()\n",
        "\n",
        "# And remember what 5 is, 5 is unregistered cars"
      ],
      "metadata": {
        "colab": {
          "base_uri": "https://localhost:8080/",
          "height": 449
        },
        "id": "1VeesEcnncUC",
        "outputId": "4425bcf1-2fca-43a1-9bd2-a0705079edbc"
      },
      "execution_count": null,
      "outputs": [
        {
          "output_type": "display_data",
          "data": {
            "text/plain": [
              "<Figure size 640x480 with 1 Axes>"
            ],
            "image/png": "[encoded data removed]"
          },
          "metadata": {}
        }
      ]
    },
    {
      "cell_type": "code",
      "source": [
        "# Have a look at the transmission type and the selling price\n",
        "plt.scatter(cars['transmission'], cars['selling_price'])\n",
        "plt.xlabel('Transmission type')\n",
        "plt.ylabel('Selling Price')\n",
        "plt.show()\n",
        "\n",
        "# Remember what 1 and 2 is? \n",
        "# 1 is manual and 2 is auto. "
      ],
      "metadata": {
        "colab": {
          "base_uri": "https://localhost:8080/",
          "height": 449
        },
        "id": "ryH6ZCmonz5L",
        "outputId": "7ee37a92-2631-4943-f6db-a79e7e0990f3"
      },
      "execution_count": null,
      "outputs": [
        {
          "output_type": "display_data",
          "data": {
            "text/plain": [
              "<Figure size 640x480 with 1 Axes>"
            ],
            "image/png": "[encoded data removed]"
          },
          "metadata": {}
        }
      ]
    },
    {
      "cell_type": "code",
      "source": [
        "# Have a look at the fuel type and the selling price\n",
        "plt.scatter(cars['fuel_type'], cars['selling_price'])\n",
        "plt.xlabel('Fuel type')\n",
        "plt.ylabel('Selling Price')\n",
        "plt.show()\n",
        "\n",
        "# Remember what the numbers represent?\n",
        "# Interestingly, number 3 is electrical cars and we are barely see anything electrical cars are selling below 80,000, which is reasonable."
      ],
      "metadata": {
        "colab": {
          "base_uri": "https://localhost:8080/",
          "height": 449
        },
        "id": "1nnIFYIJoMkY",
        "outputId": "225806cb-2f0e-4292-e618-63ceb378ce25"
      },
      "execution_count": null,
      "outputs": [
        {
          "output_type": "display_data",
          "data": {
            "text/plain": [
              "<Figure size 640x480 with 1 Axes>"
            ],
            "image/png": "[encoded data removed]"
          },
          "metadata": {}
        }
      ]
    },
    {
      "cell_type": "markdown",
      "source": [
        "# Conclusion\n",
        "\n",
        "There are relationships between the variables and the selling price.\n",
        "In the end, the conclusion that we have reached is:\n",
        "\n",
        "\n",
        "1.   The bigger the engine size, the higher the selling price\n",
        "2.   If a car has multiple previous owners, the car generally sells at a lower price\n",
        "3.   Cars that use petrol generally have a lower selling price than electrical cars or hybrid cars\n",
        "4.   Automatic cars are generally selling at a higher price than manual cars\n",
        "\n"
      ],
      "metadata": {
        "id": "Mt-65RdT7yB-"
      }
    },
    {
      "cell_type": "markdown",
      "source": [
        "# Findings:\n",
        "Based on our conclusion, it would save us time and effort if we look for cars that have a smaller engine size that had more than 1 owners before, and use petrol or diesel and also manual. We would be able to find undervalue priced cars in those areas and get a cheaper deal when we are purchasing those cars."
      ],
      "metadata": {
        "id": "wXy5FRTH8xpI"
      }
    },
    {
      "cell_type": "markdown",
      "source": [
        "# The End of my Mini Porject 2\n",
        "# Any questions?"
      ],
      "metadata": {
        "id": "6ti9bqhQouEv"
      }
    }
  ]
}